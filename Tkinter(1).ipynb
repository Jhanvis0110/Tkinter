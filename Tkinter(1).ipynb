{
 "cells": [
  {
   "cell_type": "code",
   "execution_count": 1,
   "id": "035426df-6a4f-4fa3-9dcb-ce10479f9647",
   "metadata": {},
   "outputs": [
    {
     "name": "stdout",
     "output_type": "stream",
     "text": [
      "Requirement already satisfied: tk in c:\\users\\ducat\\anaconda3\\lib\\site-packages (0.1.0)\n",
      "Note: you may need to restart the kernel to use updated packages.\n"
     ]
    }
   ],
   "source": [
    "pip install tk"
   ]
  },
  {
   "cell_type": "code",
   "execution_count": 2,
   "id": "bf775c90-2ef5-42fa-9fb6-b6793fefd25a",
   "metadata": {},
   "outputs": [],
   "source": [
    "from tkinter import *"
   ]
  },
  {
   "cell_type": "code",
   "execution_count": 25,
   "id": "38a77191-d984-48f6-94f9-9f4a98e5a58f",
   "metadata": {},
   "outputs": [],
   "source": [
    "win=Tk()\n",
    "win.resizable(width=False, height=False)\n",
    "\n",
    "win.geometry(\"600x350+200+250\")\n",
    "\n",
    "win.title(\"Arithmetic Operation\")\n",
    "win.mainloop()"
   ]
  },
  {
   "cell_type": "code",
   "execution_count": 45,
   "id": "2f397006-61b3-47f8-a41e-44e6d7934624",
   "metadata": {},
   "outputs": [],
   "source": [
    "win=Tk()\n",
    "win.resizable(width=False, height=False)\n",
    "win.geometry(\"600x350+200+250\")\n",
    "win.title(\"Arithmetic Operation\")\n",
    "l1=Label(win,text=\"Arithmetic operation\",font=(\"Arial\",20,\"bold\"))\n",
    "l1.place(x=160,y=10)\n",
    "l2=Label(win,text=\"Enter 1st number  :\",font=(\"Arial\",20,\"bold\"))\n",
    "l2.place(x=50,y=60)\n",
    "l3=Label(win,text=\"Enter 2nd number :\",font=(\"Arial\",20,\"bold\"))\n",
    "l3.place(x=50,y=120)\n",
    "win.mainloop()"
   ]
  },
  {
   "cell_type": "code",
   "execution_count": 57,
   "id": "f713bfca-9dcc-4dcc-b42c-4cc8e162c051",
   "metadata": {},
   "outputs": [],
   "source": [
    "win=Tk()\n",
    "win.resizable(width=False, height=False)\n",
    "win.geometry(\"600x400+200+250\")\n",
    "win.title(\"Arithmetic Operation\")\n",
    "l1=Label(win,text=\"Arithmetic operation\",font=(\"Arial\",20,\"bold\"))\n",
    "l1.place(x=160,y=10)\n",
    "l2=Label(win,text=\"Enter 1st number  :\",font=(\"Arial\",20,\"bold\"))\n",
    "l2.place(x=50,y=60)\n",
    "l3=Label(win,text=\"Enter 2nd number :\",font=(\"Arial\",20,\"bold\"))\n",
    "l3.place(x=50,y=120)\n",
    "e1=Entry(win,font=(\"Arial\",20,\"bold\"),bd=5)\n",
    "e1.place(x=310,y=60)\n",
    "e2=Entry(win,font=(\"Arial\",20,\"bold\"),bd=5)\n",
    "e2.place(x=310,y=120)\n",
    "win.mainloop()"
   ]
  },
  {
   "cell_type": "code",
   "execution_count": 61,
   "id": "624b51b6-ee60-431b-8054-ee9c2275acca",
   "metadata": {},
   "outputs": [],
   "source": [
    "win=Tk()\n",
    "win.resizable(width=False, height=False)\n",
    "win.geometry(\"600x400+200+250\")\n",
    "win.title(\"Arithmetic Operation\")\n",
    "l1=Label(win,text=\"Arithmetic operation\",font=(\"Arial\",20,\"bold\"))\n",
    "l1.place(x=160,y=10)\n",
    "l2=Label(win,text=\"Enter 1st number  :\",font=(\"Arial\",20,\"bold\"))\n",
    "l2.place(x=50,y=100)\n",
    "l3=Label(win,text=\"Enter 2nd number :\",font=(\"Arial\",20,\"bold\"))\n",
    "l3.place(x=50,y=200)\n",
    "e1=Entry(win,font=(\"Arial\",20,\"bold\"),bd=5)\n",
    "e1.place(x=310,y=100)\n",
    "e2=Entry(win,font=(\"Arial\",20,\"bold\"),bd=5)\n",
    "e2.place(x=310,y=200)\n",
    "b1=Button(win,text=\"SUM\",font=(\"Arial\",20,\"bold\"),bd)\n",
    "b1.place(x=180,y=300)\n",
    "b2=Button(win,text=\"MUL\",font=(\"Arial\",20,\"bold\"),bd=5)\n",
    "b2.place(x=320,y=300)\n",
    "win.mainloop()"
   ]
  },
  {
   "cell_type": "code",
   "execution_count": null,
   "id": "eaffb0e8-248b-4c11-8c8b-fe8ccb02dc2d",
   "metadata": {},
   "outputs": [],
   "source": []
  }
 ],
 "metadata": {
  "kernelspec": {
   "display_name": "Python 3 (ipykernel)",
   "language": "python",
   "name": "python3"
  },
  "language_info": {
   "codemirror_mode": {
    "name": "ipython",
    "version": 3
   },
   "file_extension": ".py",
   "mimetype": "text/x-python",
   "name": "python",
   "nbconvert_exporter": "python",
   "pygments_lexer": "ipython3",
   "version": "3.9.12"
  }
 },
 "nbformat": 4,
 "nbformat_minor": 5
}
